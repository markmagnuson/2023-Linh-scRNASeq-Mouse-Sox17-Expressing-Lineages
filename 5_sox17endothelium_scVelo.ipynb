{
 "cells": [
  {
   "cell_type": "code",
   "execution_count": null,
   "id": "fab2e58c",
   "metadata": {},
   "outputs": [],
   "source": [
    "import anndata\n",
    "import scvelo as scv\n",
    "import pandas as pd\n",
    "import numpy as np\n",
    "import matplotlib as plt\n",
    "%load_ext rpy2.ipython"
   ]
  },
  {
   "cell_type": "code",
   "execution_count": null,
   "id": "16321599",
   "metadata": {},
   "outputs": [],
   "source": [
    "#matplotlib visualization settings\n",
    "scv.set_figure_params('scvelo')\n",
    "scv.settings.presenter_view = True "
   ]
  },
  {
   "cell_type": "code",
   "execution_count": null,
   "id": "1b045890",
   "metadata": {},
   "outputs": [],
   "source": [
    "#Load loom files\n",
    "gfp_loom = anndata.read_loom(\"data/3575-LT.loom\")\n",
    "tdtom_loom = anndata.read_loom(\"data/5291-LT.loom\")"
   ]
  },
  {
   "cell_type": "code",
   "execution_count": null,
   "id": "09b0fac6",
   "metadata": {},
   "outputs": [],
   "source": [
    "gfp_loom.var_names_make_unique()\n",
    "tdtom_loom.var_names_make_unique()"
   ]
  },
  {
   "cell_type": "code",
   "execution_count": null,
   "id": "9a0d6b72",
   "metadata": {},
   "outputs": [],
   "source": [
    "#Load cellID extracted from Seurat object\n",
    "endothelium_obs = pd.read_csv(\"../sox17_seurat4_remap/output/for_scvelo/Endothelium_cellID_obs.csv\")"
   ]
  },
  {
   "cell_type": "code",
   "execution_count": null,
   "id": "f5a91004",
   "metadata": {},
   "outputs": [],
   "source": [
    "#Process cellID\n",
    "endothelium_obs_gfp = endothelium_obs[endothelium_obs['x'].str.contains('gfp_')]\n",
    "endothelium_obs_tdtom = endothelium_obs[endothelium_obs['x'].str.contains('tdtomato_')]\n",
    "gfp_loom.obs.index = gfp_loom.obs.index.str.replace(\"3575-LT:\",\"gfp_\")\n",
    "gfp_loom.obs.index = gfp_loom.obs.index.str.replace(\"x\",\"-1\")\n",
    "tdtom_loom.obs.index = tdtom_loom.obs.index.str.replace(\"5291-LT:\",\"tdtomato_\")\n",
    "tdtom_loom.obs.index = tdtom_loom.obs.index.str.replace(\"x\",\"-1\")"
   ]
  },
  {
   "cell_type": "code",
   "execution_count": null,
   "id": "10cd0ea3",
   "metadata": {},
   "outputs": [],
   "source": [
    "#Filter loom files for processed cellIDs\n",
    "gfp_loom = gfp_loom[np.isin(gfp_loom.obs.index, endothelium_obs_gfp[\"x\"])]\n",
    "tdtom_loom = tdtom_loom[np.isin(tdtom_loom.obs.index, endothelium_obs_tdtom[\"x\"])]"
   ]
  },
  {
   "cell_type": "code",
   "execution_count": null,
   "id": "f7acd6d3",
   "metadata": {},
   "outputs": [],
   "source": [
    "#Merge gfp and tdtomato looms\n",
    "endothelium_loom = gfp_loom.concatenate(tdtom_loom)"
   ]
  },
  {
   "cell_type": "code",
   "execution_count": null,
   "id": "e85cd31c",
   "metadata": {},
   "outputs": [],
   "source": [
    "#Clean up index\n",
    "endothelium_loom.obs.index = endothelium_loom.obs.index.str.replace(\"-0\",\"\")\n",
    "endothelium_loom.obs.index = endothelium_loom.obs.index.str.replace(\"-1-1\",\"-1\")"
   ]
  },
  {
   "cell_type": "code",
   "execution_count": null,
   "id": "141e9f77",
   "metadata": {},
   "outputs": [],
   "source": [
    "#Load UMAP coordinates of Seurat object\n",
    "endothelium_umap_cord = pd.read_csv(\"../sox17_seurat4_remap/output/for_scvelo/Endothelium_cell_embeddings.csv\")"
   ]
  },
  {
   "cell_type": "code",
   "execution_count": null,
   "id": "ca15cfc4",
   "metadata": {},
   "outputs": [],
   "source": [
    "#Reorder coordinates\n",
    "endothelium_loom_index = pd.DataFrame(endothelium_loom.obs.index)\n",
    "endothelium_loom_index = endothelium_loom_index.rename(columns = {0:'Cell ID'})\n",
    "endothelium_loom_index\n",
    "\n",
    "endothelium_umap_cord = endothelium_umap_cord.rename(columns = {'Unnamed: 0':'Cell ID'})\n",
    "endothelium_umap_cord\n",
    "\n",
    "endothelium_umap_cord_ordered = endothelium_loom_index.merge(endothelium_umap_cord, on = \"Cell ID\")\n",
    "\n",
    "endothelium_umap_cord_ordered = endothelium_umap_cord_ordered.iloc[:,1:]\n",
    "endothelium_loom.obsm['X_umap'] = endothelium_umap_cord_ordered.values"
   ]
  },
  {
   "cell_type": "code",
   "execution_count": null,
   "id": "6cd77d52",
   "metadata": {},
   "outputs": [],
   "source": [
    "#Clusters and their cluster colors can be added in the same fashion \n",
    "endothelium_clusters = pd.read_csv(\"../sox17_seurat4_remap/output/for_scvelo/Endothelium_clusters.csv\")\n",
    "endothelium_clusters = endothelium_clusters.rename(columns = {'Unnamed: 0':'Cell ID'})\n",
    "endothelium_clusters_ordered = endothelium_loom_index.merge(endothelium_clusters, on = \"Cell ID\")\n",
    "endothelium_clusters_ordered = endothelium_clusters_ordered.iloc[:,1:]\n",
    "\n",
    "#Instead of adding them as an multidimensional observation ('obsm'), we'd add them under the unstructured annotation 'uns.'\n",
    "endothelium_loom.obs['Clusters'] = endothelium_clusters_ordered.values"
   ]
  },
  {
   "cell_type": "code",
   "execution_count": null,
   "id": "046047b9",
   "metadata": {},
   "outputs": [],
   "source": [
    "#Proportions of spliced/unspliced counts \n",
    "scv.pl.proportions(endothelium_loom)"
   ]
  },
  {
   "cell_type": "code",
   "execution_count": null,
   "id": "e110a3bb",
   "metadata": {},
   "outputs": [],
   "source": [
    "#scVelo run\n",
    "scv.pp.filter_and_normalize(endothelium_loom)\n",
    "scv.pp.moments(endothelium_loom)\n",
    "scv.tl.recover_dynamics(endothelium_loom)\n",
    "scv.tl.velocity(endothelium_loom, mode = \"dynamical\")\n",
    "scv.tl.velocity_graph(endothelium_loom)\n",
    "scv.pl.velocity_embedding(endothelium_loom, basis = 'umap')\n",
    "scv.pl.velocity_embedding_stream(endothelium_loom, basis = 'umap', color = endothelium_loom.uns['Cluster_colors'], colorbar = False)"
   ]
  },
  {
   "cell_type": "code",
   "execution_count": null,
   "id": "fd567f4d",
   "metadata": {},
   "outputs": [],
   "source": [
    "#Add pseudotime values from Monocle3 analysis \n",
    "endothelium_pseudotime = pd.read_csv(\"../sox17_seurat4_remap/output/for_scvelo/Endothelium_pseudotime.csv\")\n",
    "endothelium_pseudotime = endothelium_pseudotime.rename(columns = {'Unnamed: 0':'Cell ID'})\n",
    "endothelium_pseudotime_ordered = endothelium_loom_index.merge(endothelium_pseudotime, on = \"Cell ID\")\n",
    "endothelium_pseudotime_ordered = endothelium_pseudotime_ordered.iloc[:,1:]\n",
    "endothelium_loom.uns['Pseudotime'] = endothelium_pseudotime_ordered.values"
   ]
  },
  {
   "cell_type": "code",
   "execution_count": null,
   "id": "dfe3f101",
   "metadata": {},
   "outputs": [],
   "source": [
    "#Figure_3C\n",
    "scv.pl.velocity_embedding_stream(endothelium_loom, basis = 'umap', color = endothelium_loom.uns['Pseudotime'], cmap='plasma')"
   ]
  }
 ],
 "metadata": {
  "kernelspec": {
   "display_name": "Python 3 (ipykernel)",
   "language": "python",
   "name": "python3"
  },
  "language_info": {
   "codemirror_mode": {
    "name": "ipython",
    "version": 3
   },
   "file_extension": ".py",
   "mimetype": "text/x-python",
   "name": "python",
   "nbconvert_exporter": "python",
   "pygments_lexer": "ipython3",
   "version": "3.7.13"
  }
 },
 "nbformat": 4,
 "nbformat_minor": 5
}
